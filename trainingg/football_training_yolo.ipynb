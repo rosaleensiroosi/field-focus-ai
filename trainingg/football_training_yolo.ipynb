{
 "cells": [
  {
   "cell_type": "code",
   "execution_count": 3,
   "metadata": {},
   "outputs": [
    {
     "name": "stdout",
     "output_type": "stream",
     "text": [
      "Defaulting to user installation because normal site-packages is not writeable\n",
      "Requirement already satisfied: ultralytics in /Users/rosaleen/Library/Python/3.9/lib/python/site-packages (8.2.18)\n",
      "Requirement already satisfied: matplotlib>=3.3.0 in /Users/rosaleen/Library/Python/3.9/lib/python/site-packages (from ultralytics) (3.9.0)\n",
      "Requirement already satisfied: opencv-python>=4.6.0 in /Users/rosaleen/Library/Python/3.9/lib/python/site-packages (from ultralytics) (4.9.0.80)\n",
      "Requirement already satisfied: pillow>=7.1.2 in /Users/rosaleen/Library/Python/3.9/lib/python/site-packages (from ultralytics) (10.3.0)\n",
      "Requirement already satisfied: pyyaml>=5.3.1 in /Users/rosaleen/Library/Python/3.9/lib/python/site-packages (from ultralytics) (6.0.1)\n",
      "Requirement already satisfied: requests>=2.23.0 in /Users/rosaleen/Library/Python/3.9/lib/python/site-packages (from ultralytics) (2.31.0)\n",
      "Requirement already satisfied: scipy>=1.4.1 in /Users/rosaleen/Library/Python/3.9/lib/python/site-packages (from ultralytics) (1.13.0)\n",
      "Requirement already satisfied: torch>=1.8.0 in /Users/rosaleen/Library/Python/3.9/lib/python/site-packages (from ultralytics) (2.3.0)\n",
      "Requirement already satisfied: torchvision>=0.9.0 in /Users/rosaleen/Library/Python/3.9/lib/python/site-packages (from ultralytics) (0.18.0)\n",
      "Requirement already satisfied: tqdm>=4.64.0 in /Users/rosaleen/Library/Python/3.9/lib/python/site-packages (from ultralytics) (4.66.4)\n",
      "Requirement already satisfied: psutil in /Users/rosaleen/Library/Python/3.9/lib/python/site-packages (from ultralytics) (5.9.8)\n",
      "Requirement already satisfied: py-cpuinfo in /Users/rosaleen/Library/Python/3.9/lib/python/site-packages (from ultralytics) (9.0.0)\n",
      "Requirement already satisfied: thop>=0.1.1 in /Users/rosaleen/Library/Python/3.9/lib/python/site-packages (from ultralytics) (0.1.1.post2209072238)\n",
      "Requirement already satisfied: pandas>=1.1.4 in /Users/rosaleen/Library/Python/3.9/lib/python/site-packages (from ultralytics) (2.2.2)\n",
      "Requirement already satisfied: seaborn>=0.11.0 in /Users/rosaleen/Library/Python/3.9/lib/python/site-packages (from ultralytics) (0.13.2)\n",
      "Requirement already satisfied: contourpy>=1.0.1 in /Users/rosaleen/Library/Python/3.9/lib/python/site-packages (from matplotlib>=3.3.0->ultralytics) (1.2.1)\n",
      "Requirement already satisfied: cycler>=0.10 in /Users/rosaleen/Library/Python/3.9/lib/python/site-packages (from matplotlib>=3.3.0->ultralytics) (0.12.1)\n",
      "Requirement already satisfied: fonttools>=4.22.0 in /Users/rosaleen/Library/Python/3.9/lib/python/site-packages (from matplotlib>=3.3.0->ultralytics) (4.51.0)\n",
      "Requirement already satisfied: kiwisolver>=1.3.1 in /Users/rosaleen/Library/Python/3.9/lib/python/site-packages (from matplotlib>=3.3.0->ultralytics) (1.4.5)\n",
      "Requirement already satisfied: numpy>=1.23 in /Users/rosaleen/Library/Python/3.9/lib/python/site-packages (from matplotlib>=3.3.0->ultralytics) (1.26.4)\n",
      "Requirement already satisfied: packaging>=20.0 in /Users/rosaleen/Library/Python/3.9/lib/python/site-packages (from matplotlib>=3.3.0->ultralytics) (24.0)\n",
      "Requirement already satisfied: pyparsing>=2.3.1 in /Users/rosaleen/Library/Python/3.9/lib/python/site-packages (from matplotlib>=3.3.0->ultralytics) (3.1.2)\n",
      "Requirement already satisfied: python-dateutil>=2.7 in /Users/rosaleen/Library/Python/3.9/lib/python/site-packages (from matplotlib>=3.3.0->ultralytics) (2.9.0.post0)\n",
      "Requirement already satisfied: importlib-resources>=3.2.0 in /Users/rosaleen/Library/Python/3.9/lib/python/site-packages (from matplotlib>=3.3.0->ultralytics) (6.4.0)\n",
      "Requirement already satisfied: pytz>=2020.1 in /Users/rosaleen/Library/Python/3.9/lib/python/site-packages (from pandas>=1.1.4->ultralytics) (2024.1)\n",
      "Requirement already satisfied: tzdata>=2022.7 in /Users/rosaleen/Library/Python/3.9/lib/python/site-packages (from pandas>=1.1.4->ultralytics) (2024.1)\n",
      "Requirement already satisfied: charset-normalizer<4,>=2 in /Users/rosaleen/Library/Python/3.9/lib/python/site-packages (from requests>=2.23.0->ultralytics) (3.3.2)\n",
      "Requirement already satisfied: idna<4,>=2.5 in /Users/rosaleen/Library/Python/3.9/lib/python/site-packages (from requests>=2.23.0->ultralytics) (3.7)\n",
      "Requirement already satisfied: urllib3<3,>=1.21.1 in /Users/rosaleen/Library/Python/3.9/lib/python/site-packages (from requests>=2.23.0->ultralytics) (2.2.1)\n",
      "Requirement already satisfied: certifi>=2017.4.17 in /Users/rosaleen/Library/Python/3.9/lib/python/site-packages (from requests>=2.23.0->ultralytics) (2024.2.2)\n",
      "Requirement already satisfied: filelock in /Users/rosaleen/Library/Python/3.9/lib/python/site-packages (from torch>=1.8.0->ultralytics) (3.14.0)\n",
      "Requirement already satisfied: typing-extensions>=4.8.0 in /Users/rosaleen/Library/Python/3.9/lib/python/site-packages (from torch>=1.8.0->ultralytics) (4.11.0)\n",
      "Requirement already satisfied: sympy in /Users/rosaleen/Library/Python/3.9/lib/python/site-packages (from torch>=1.8.0->ultralytics) (1.12)\n",
      "Requirement already satisfied: networkx in /Users/rosaleen/Library/Python/3.9/lib/python/site-packages (from torch>=1.8.0->ultralytics) (3.2.1)\n",
      "Requirement already satisfied: jinja2 in /Users/rosaleen/Library/Python/3.9/lib/python/site-packages (from torch>=1.8.0->ultralytics) (3.1.4)\n",
      "Requirement already satisfied: fsspec in /Users/rosaleen/Library/Python/3.9/lib/python/site-packages (from torch>=1.8.0->ultralytics) (2024.5.0)\n",
      "Requirement already satisfied: zipp>=3.1.0 in /Users/rosaleen/Library/Python/3.9/lib/python/site-packages (from importlib-resources>=3.2.0->matplotlib>=3.3.0->ultralytics) (3.18.2)\n",
      "Requirement already satisfied: six>=1.5 in /Applications/Xcode.app/Contents/Developer/Library/Frameworks/Python3.framework/Versions/3.9/lib/python3.9/site-packages (from python-dateutil>=2.7->matplotlib>=3.3.0->ultralytics) (1.15.0)\n",
      "Requirement already satisfied: MarkupSafe>=2.0 in /Users/rosaleen/Library/Python/3.9/lib/python/site-packages (from jinja2->torch>=1.8.0->ultralytics) (2.1.5)\n",
      "Requirement already satisfied: mpmath>=0.19 in /Users/rosaleen/Library/Python/3.9/lib/python/site-packages (from sympy->torch>=1.8.0->ultralytics) (1.3.0)\n",
      "Defaulting to user installation because normal site-packages is not writeable\n",
      "Collecting roboflow\n",
      "  Downloading roboflow-1.1.29-py3-none-any.whl.metadata (9.3 kB)\n",
      "Collecting certifi==2023.7.22 (from roboflow)\n",
      "  Downloading certifi-2023.7.22-py3-none-any.whl.metadata (2.2 kB)\n",
      "Collecting chardet==4.0.0 (from roboflow)\n",
      "  Downloading chardet-4.0.0-py2.py3-none-any.whl.metadata (3.5 kB)\n",
      "Collecting cycler==0.10.0 (from roboflow)\n",
      "  Downloading cycler-0.10.0-py2.py3-none-any.whl.metadata (722 bytes)\n",
      "Collecting idna==2.10 (from roboflow)\n",
      "  Downloading idna-2.10-py2.py3-none-any.whl.metadata (9.1 kB)\n",
      "Requirement already satisfied: kiwisolver>=1.3.1 in /Users/rosaleen/Library/Python/3.9/lib/python/site-packages (from roboflow) (1.4.5)\n",
      "Requirement already satisfied: matplotlib in /Users/rosaleen/Library/Python/3.9/lib/python/site-packages (from roboflow) (3.9.0)\n",
      "Requirement already satisfied: numpy>=1.18.5 in /Users/rosaleen/Library/Python/3.9/lib/python/site-packages (from roboflow) (1.26.4)\n",
      "Collecting opencv-python-headless==4.8.0.74 (from roboflow)\n",
      "  Downloading opencv_python_headless-4.8.0.74-cp37-abi3-macosx_11_0_arm64.whl.metadata (19 kB)\n",
      "Requirement already satisfied: Pillow>=7.1.2 in /Users/rosaleen/Library/Python/3.9/lib/python/site-packages (from roboflow) (10.3.0)\n",
      "Requirement already satisfied: python-dateutil in /Users/rosaleen/Library/Python/3.9/lib/python/site-packages (from roboflow) (2.9.0.post0)\n",
      "Collecting python-dotenv (from roboflow)\n",
      "  Downloading python_dotenv-1.0.1-py3-none-any.whl.metadata (23 kB)\n",
      "Requirement already satisfied: requests in /Users/rosaleen/Library/Python/3.9/lib/python/site-packages (from roboflow) (2.31.0)\n",
      "Requirement already satisfied: six in /Applications/Xcode.app/Contents/Developer/Library/Frameworks/Python3.framework/Versions/3.9/lib/python3.9/site-packages (from roboflow) (1.15.0)\n",
      "Requirement already satisfied: urllib3>=1.26.6 in /Users/rosaleen/Library/Python/3.9/lib/python/site-packages (from roboflow) (2.2.1)\n",
      "Requirement already satisfied: tqdm>=4.41.0 in /Users/rosaleen/Library/Python/3.9/lib/python/site-packages (from roboflow) (4.66.4)\n",
      "Requirement already satisfied: PyYAML>=5.3.1 in /Users/rosaleen/Library/Python/3.9/lib/python/site-packages (from roboflow) (6.0.1)\n",
      "Collecting requests-toolbelt (from roboflow)\n",
      "  Downloading requests_toolbelt-1.0.0-py2.py3-none-any.whl.metadata (14 kB)\n",
      "Collecting python-magic (from roboflow)\n",
      "  Downloading python_magic-0.4.27-py2.py3-none-any.whl.metadata (5.8 kB)\n",
      "Requirement already satisfied: contourpy>=1.0.1 in /Users/rosaleen/Library/Python/3.9/lib/python/site-packages (from matplotlib->roboflow) (1.2.1)\n",
      "Requirement already satisfied: fonttools>=4.22.0 in /Users/rosaleen/Library/Python/3.9/lib/python/site-packages (from matplotlib->roboflow) (4.51.0)\n",
      "Requirement already satisfied: packaging>=20.0 in /Users/rosaleen/Library/Python/3.9/lib/python/site-packages (from matplotlib->roboflow) (24.0)\n",
      "Requirement already satisfied: pyparsing>=2.3.1 in /Users/rosaleen/Library/Python/3.9/lib/python/site-packages (from matplotlib->roboflow) (3.1.2)\n",
      "Requirement already satisfied: importlib-resources>=3.2.0 in /Users/rosaleen/Library/Python/3.9/lib/python/site-packages (from matplotlib->roboflow) (6.4.0)\n",
      "Requirement already satisfied: charset-normalizer<4,>=2 in /Users/rosaleen/Library/Python/3.9/lib/python/site-packages (from requests->roboflow) (3.3.2)\n",
      "Requirement already satisfied: zipp>=3.1.0 in /Users/rosaleen/Library/Python/3.9/lib/python/site-packages (from importlib-resources>=3.2.0->matplotlib->roboflow) (3.18.2)\n",
      "Downloading roboflow-1.1.29-py3-none-any.whl (74 kB)\n",
      "\u001b[2K   \u001b[90m━━━━━━━━━━━━━━━━━━━━━━━━━━━━━━━━━━━━━━━━\u001b[0m \u001b[32m74.9/74.9 kB\u001b[0m \u001b[31m2.6 MB/s\u001b[0m eta \u001b[36m0:00:00\u001b[0m\n",
      "\u001b[?25hDownloading certifi-2023.7.22-py3-none-any.whl (158 kB)\n",
      "\u001b[2K   \u001b[90m━━━━━━━━━━━━━━━━━━━━━━━━━━━━━━━━━━━━━━━━\u001b[0m \u001b[32m158.3/158.3 kB\u001b[0m \u001b[31m3.3 MB/s\u001b[0m eta \u001b[36m0:00:00\u001b[0ma \u001b[36m0:00:01\u001b[0m\n",
      "\u001b[?25hDownloading chardet-4.0.0-py2.py3-none-any.whl (178 kB)\n",
      "\u001b[2K   \u001b[90m━━━━━━━━━━━━━━━━━━━━━━━━━━━━━━━━━━━━━━━━\u001b[0m \u001b[32m178.7/178.7 kB\u001b[0m \u001b[31m3.3 MB/s\u001b[0m eta \u001b[36m0:00:00\u001b[0ma \u001b[36m0:00:01\u001b[0m\n",
      "\u001b[?25hDownloading cycler-0.10.0-py2.py3-none-any.whl (6.5 kB)\n",
      "Downloading idna-2.10-py2.py3-none-any.whl (58 kB)\n",
      "\u001b[2K   \u001b[90m━━━━━━━━━━━━━━━━━━━━━━━━━━━━━━━━━━━━━━━━\u001b[0m \u001b[32m58.8/58.8 kB\u001b[0m \u001b[31m1.9 MB/s\u001b[0m eta \u001b[36m0:00:00\u001b[0m\n",
      "\u001b[?25hDownloading opencv_python_headless-4.8.0.74-cp37-abi3-macosx_11_0_arm64.whl (33.1 MB)\n",
      "\u001b[2K   \u001b[90m━━━━━━━━━━━━━━━━━━━━━━━━━━━━━━━━━━━━━━━━\u001b[0m \u001b[32m33.1/33.1 MB\u001b[0m \u001b[31m3.1 MB/s\u001b[0m eta \u001b[36m0:00:00\u001b[0m00:01\u001b[0m00:01\u001b[0m\n",
      "\u001b[?25hDownloading python_dotenv-1.0.1-py3-none-any.whl (19 kB)\n",
      "Downloading python_magic-0.4.27-py2.py3-none-any.whl (13 kB)\n",
      "Downloading requests_toolbelt-1.0.0-py2.py3-none-any.whl (54 kB)\n",
      "\u001b[2K   \u001b[90m━━━━━━━━━━━━━━━━━━━━━━━━━━━━━━━━━━━━━━━━\u001b[0m \u001b[32m54.5/54.5 kB\u001b[0m \u001b[31m4.1 MB/s\u001b[0m eta \u001b[36m0:00:00\u001b[0m\n",
      "\u001b[?25hInstalling collected packages: python-magic, python-dotenv, opencv-python-headless, idna, cycler, chardet, certifi, requests-toolbelt, roboflow\n",
      "  Attempting uninstall: idna\n",
      "    Found existing installation: idna 3.7\n",
      "    Uninstalling idna-3.7:\n",
      "      Successfully uninstalled idna-3.7\n",
      "  Attempting uninstall: cycler\n",
      "    Found existing installation: cycler 0.12.1\n",
      "    Uninstalling cycler-0.12.1:\n",
      "      Successfully uninstalled cycler-0.12.1\n",
      "  Attempting uninstall: certifi\n",
      "    Found existing installation: certifi 2024.2.2\n",
      "    Uninstalling certifi-2024.2.2:\n",
      "      Successfully uninstalled certifi-2024.2.2\n",
      "Successfully installed certifi-2023.7.22 chardet-4.0.0 cycler-0.10.0 idna-2.10 opencv-python-headless-4.8.0.74 python-dotenv-1.0.1 python-magic-0.4.27 requests-toolbelt-1.0.0 roboflow-1.1.29\n"
     ]
    }
   ],
   "source": [
    "!pip install ultralytics\n",
    "!pip install roboflow"
   ]
  },
  {
   "cell_type": "code",
   "execution_count": 4,
   "metadata": {},
   "outputs": [
    {
     "name": "stderr",
     "output_type": "stream",
     "text": [
      "/Users/rosaleen/Library/Python/3.9/lib/python/site-packages/urllib3/__init__.py:35: NotOpenSSLWarning: urllib3 v2 only supports OpenSSL 1.1.1+, currently the 'ssl' module is compiled with 'LibreSSL 2.8.3'. See: https://github.com/urllib3/urllib3/issues/3020\n",
      "  warnings.warn(\n"
     ]
    },
    {
     "name": "stdout",
     "output_type": "stream",
     "text": [
      "loading Roboflow workspace...\n",
      "loading Roboflow project...\n"
     ]
    },
    {
     "name": "stderr",
     "output_type": "stream",
     "text": [
      "Downloading Dataset Version Zip in football-players-detection-1 to yolov5pytorch:: 100%|██████████| 148663/148663 [00:47<00:00, 3148.51it/s]"
     ]
    },
    {
     "name": "stdout",
     "output_type": "stream",
     "text": [
      "\n"
     ]
    },
    {
     "name": "stderr",
     "output_type": "stream",
     "text": [
      "\n",
      "Extracting Dataset Version Zip to football-players-detection-1 in yolov5pytorch:: 100%|██████████| 1338/1338 [00:00<00:00, 5994.17it/s]\n"
     ]
    }
   ],
   "source": [
    "from roboflow import Roboflow\n",
    "rf = Roboflow(api_key=\"DfVyG31EW9qzAeZWu4ck\")\n",
    "project = rf.workspace(\"roboflow-jvuqo\").project(\"football-players-detection-3zvbc\")\n",
    "version = project.version(1)\n",
    "dataset = version.download(\"yolov5\")"
   ]
  },
  {
   "cell_type": "code",
   "execution_count": 5,
   "metadata": {},
   "outputs": [
    {
     "data": {
      "text/plain": [
       "'football-players-detection-1/football-players-detection-1/valid'"
      ]
     },
     "execution_count": 5,
     "metadata": {},
     "output_type": "execute_result"
    }
   ],
   "source": [
    "import shutil\n",
    "\n",
    "shutil.move('football-players-detection-1/train', \n",
    "            'football-players-detection-1/football-players-detection-1/train')\n",
    "\n",
    "shutil.move('football-players-detection-1/test', \n",
    "            'football-players-detection-1/football-players-detection-1/test')\n",
    "\n",
    "shutil.move('football-players-detection-1/valid', \n",
    "            'football-players-detection-1/football-players-detection-1/valid')"
   ]
  },
  {
   "cell_type": "code",
   "execution_count": 13,
   "metadata": {},
   "outputs": [
    {
     "name": "stdout",
     "output_type": "stream",
     "text": [
      "env: PYTORCH_CUDA_ALLOC_CONF=expandable_segments:True\n"
     ]
    }
   ],
   "source": [
    "%env PYTORCH_CUDA_ALLOC_CONF=expandable_segments:True\n"
   ]
  },
  {
   "cell_type": "code",
   "execution_count": 14,
   "metadata": {},
   "outputs": [
    {
     "name": "stdout",
     "output_type": "stream",
     "text": [
      "Cloning into 'yolov5'...\n"
     ]
    },
    {
     "name": "stderr",
     "output_type": "stream",
     "text": [
      "Python(30830) MallocStackLogging: can't turn off malloc stack logging because it was not enabled.\n"
     ]
    },
    {
     "name": "stdout",
     "output_type": "stream",
     "text": [
      "remote: Enumerating objects: 16620, done.\u001b[K\n",
      "remote: Counting objects: 100% (98/98), done.\u001b[K\n",
      "remote: Compressing objects: 100% (69/69), done.\u001b[K\n",
      "remote: Total 16620 (delta 55), reused 62 (delta 29), pack-reused 16522\u001b[K\n",
      "Receiving objects: 100% (16620/16620), 15.10 MiB | 1.60 MiB/s, done.\n",
      "Resolving deltas: 100% (11414/11414), done.\n",
      "/Users/rosaleen/Desktop/projects/football-analysis/training/yolov5\n"
     ]
    },
    {
     "name": "stderr",
     "output_type": "stream",
     "text": [
      "using dhist requires you to install the `pickleshare` library.\n",
      "Python(30857) MallocStackLogging: can't turn off malloc stack logging because it was not enabled.\n"
     ]
    },
    {
     "name": "stdout",
     "output_type": "stream",
     "text": [
      "Defaulting to user installation because normal site-packages is not writeable\n",
      "Collecting gitpython>=3.1.30 (from -r requirements.txt (line 5))\n",
      "  Downloading GitPython-3.1.43-py3-none-any.whl.metadata (13 kB)\n",
      "Requirement already satisfied: matplotlib>=3.3 in /Users/rosaleen/Library/Python/3.9/lib/python/site-packages (from -r requirements.txt (line 6)) (3.9.0)\n",
      "Requirement already satisfied: numpy>=1.23.5 in /Users/rosaleen/Library/Python/3.9/lib/python/site-packages (from -r requirements.txt (line 7)) (1.26.4)\n",
      "Requirement already satisfied: opencv-python>=4.1.1 in /Users/rosaleen/Library/Python/3.9/lib/python/site-packages (from -r requirements.txt (line 8)) (4.9.0.80)\n",
      "Requirement already satisfied: pillow>=10.3.0 in /Users/rosaleen/Library/Python/3.9/lib/python/site-packages (from -r requirements.txt (line 9)) (10.3.0)\n",
      "Requirement already satisfied: psutil in /Users/rosaleen/Library/Python/3.9/lib/python/site-packages (from -r requirements.txt (line 10)) (5.9.8)\n",
      "Requirement already satisfied: PyYAML>=5.3.1 in /Users/rosaleen/Library/Python/3.9/lib/python/site-packages (from -r requirements.txt (line 11)) (6.0.1)\n",
      "Requirement already satisfied: requests>=2.23.0 in /Users/rosaleen/Library/Python/3.9/lib/python/site-packages (from -r requirements.txt (line 12)) (2.31.0)\n",
      "Requirement already satisfied: scipy>=1.4.1 in /Users/rosaleen/Library/Python/3.9/lib/python/site-packages (from -r requirements.txt (line 13)) (1.13.0)\n",
      "Requirement already satisfied: thop>=0.1.1 in /Users/rosaleen/Library/Python/3.9/lib/python/site-packages (from -r requirements.txt (line 14)) (0.1.1.post2209072238)\n",
      "Requirement already satisfied: torch>=1.8.0 in /Users/rosaleen/Library/Python/3.9/lib/python/site-packages (from -r requirements.txt (line 15)) (2.3.0)\n",
      "Requirement already satisfied: torchvision>=0.9.0 in /Users/rosaleen/Library/Python/3.9/lib/python/site-packages (from -r requirements.txt (line 16)) (0.18.0)\n",
      "Requirement already satisfied: tqdm>=4.64.0 in /Users/rosaleen/Library/Python/3.9/lib/python/site-packages (from -r requirements.txt (line 17)) (4.66.4)\n",
      "Requirement already satisfied: ultralytics>=8.0.232 in /Users/rosaleen/Library/Python/3.9/lib/python/site-packages (from -r requirements.txt (line 18)) (8.2.18)\n",
      "Requirement already satisfied: pandas>=1.1.4 in /Users/rosaleen/Library/Python/3.9/lib/python/site-packages (from -r requirements.txt (line 27)) (2.2.2)\n",
      "Requirement already satisfied: seaborn>=0.11.0 in /Users/rosaleen/Library/Python/3.9/lib/python/site-packages (from -r requirements.txt (line 28)) (0.13.2)\n",
      "Collecting setuptools>=65.5.1 (from -r requirements.txt (line 42))\n",
      "  Using cached setuptools-69.5.1-py3-none-any.whl.metadata (6.2 kB)\n",
      "Collecting wheel>=0.38.0 (from -r requirements.txt (line 50))\n",
      "  Using cached wheel-0.43.0-py3-none-any.whl.metadata (2.2 kB)\n",
      "Collecting gitdb<5,>=4.0.1 (from gitpython>=3.1.30->-r requirements.txt (line 5))\n",
      "  Downloading gitdb-4.0.11-py3-none-any.whl.metadata (1.2 kB)\n",
      "Requirement already satisfied: contourpy>=1.0.1 in /Users/rosaleen/Library/Python/3.9/lib/python/site-packages (from matplotlib>=3.3->-r requirements.txt (line 6)) (1.2.1)\n",
      "Requirement already satisfied: cycler>=0.10 in /Users/rosaleen/Library/Python/3.9/lib/python/site-packages (from matplotlib>=3.3->-r requirements.txt (line 6)) (0.10.0)\n",
      "Requirement already satisfied: fonttools>=4.22.0 in /Users/rosaleen/Library/Python/3.9/lib/python/site-packages (from matplotlib>=3.3->-r requirements.txt (line 6)) (4.51.0)\n",
      "Requirement already satisfied: kiwisolver>=1.3.1 in /Users/rosaleen/Library/Python/3.9/lib/python/site-packages (from matplotlib>=3.3->-r requirements.txt (line 6)) (1.4.5)\n",
      "Requirement already satisfied: packaging>=20.0 in /Users/rosaleen/Library/Python/3.9/lib/python/site-packages (from matplotlib>=3.3->-r requirements.txt (line 6)) (24.0)\n",
      "Requirement already satisfied: pyparsing>=2.3.1 in /Users/rosaleen/Library/Python/3.9/lib/python/site-packages (from matplotlib>=3.3->-r requirements.txt (line 6)) (3.1.2)\n",
      "Requirement already satisfied: python-dateutil>=2.7 in /Users/rosaleen/Library/Python/3.9/lib/python/site-packages (from matplotlib>=3.3->-r requirements.txt (line 6)) (2.9.0.post0)\n",
      "Requirement already satisfied: importlib-resources>=3.2.0 in /Users/rosaleen/Library/Python/3.9/lib/python/site-packages (from matplotlib>=3.3->-r requirements.txt (line 6)) (6.4.0)\n",
      "Requirement already satisfied: charset-normalizer<4,>=2 in /Users/rosaleen/Library/Python/3.9/lib/python/site-packages (from requests>=2.23.0->-r requirements.txt (line 12)) (3.3.2)\n",
      "Requirement already satisfied: idna<4,>=2.5 in /Users/rosaleen/Library/Python/3.9/lib/python/site-packages (from requests>=2.23.0->-r requirements.txt (line 12)) (2.10)\n",
      "Requirement already satisfied: urllib3<3,>=1.21.1 in /Users/rosaleen/Library/Python/3.9/lib/python/site-packages (from requests>=2.23.0->-r requirements.txt (line 12)) (2.2.1)\n",
      "Requirement already satisfied: certifi>=2017.4.17 in /Users/rosaleen/Library/Python/3.9/lib/python/site-packages (from requests>=2.23.0->-r requirements.txt (line 12)) (2023.7.22)\n",
      "Requirement already satisfied: filelock in /Users/rosaleen/Library/Python/3.9/lib/python/site-packages (from torch>=1.8.0->-r requirements.txt (line 15)) (3.14.0)\n",
      "Requirement already satisfied: typing-extensions>=4.8.0 in /Users/rosaleen/Library/Python/3.9/lib/python/site-packages (from torch>=1.8.0->-r requirements.txt (line 15)) (4.11.0)\n",
      "Requirement already satisfied: sympy in /Users/rosaleen/Library/Python/3.9/lib/python/site-packages (from torch>=1.8.0->-r requirements.txt (line 15)) (1.12)\n",
      "Requirement already satisfied: networkx in /Users/rosaleen/Library/Python/3.9/lib/python/site-packages (from torch>=1.8.0->-r requirements.txt (line 15)) (3.2.1)\n",
      "Requirement already satisfied: jinja2 in /Users/rosaleen/Library/Python/3.9/lib/python/site-packages (from torch>=1.8.0->-r requirements.txt (line 15)) (3.1.4)\n",
      "Requirement already satisfied: fsspec in /Users/rosaleen/Library/Python/3.9/lib/python/site-packages (from torch>=1.8.0->-r requirements.txt (line 15)) (2024.5.0)\n",
      "Requirement already satisfied: py-cpuinfo in /Users/rosaleen/Library/Python/3.9/lib/python/site-packages (from ultralytics>=8.0.232->-r requirements.txt (line 18)) (9.0.0)\n",
      "Requirement already satisfied: pytz>=2020.1 in /Users/rosaleen/Library/Python/3.9/lib/python/site-packages (from pandas>=1.1.4->-r requirements.txt (line 27)) (2024.1)\n",
      "Requirement already satisfied: tzdata>=2022.7 in /Users/rosaleen/Library/Python/3.9/lib/python/site-packages (from pandas>=1.1.4->-r requirements.txt (line 27)) (2024.1)\n",
      "Requirement already satisfied: six in /Applications/Xcode.app/Contents/Developer/Library/Frameworks/Python3.framework/Versions/3.9/lib/python3.9/site-packages (from cycler>=0.10->matplotlib>=3.3->-r requirements.txt (line 6)) (1.15.0)\n",
      "Collecting smmap<6,>=3.0.1 (from gitdb<5,>=4.0.1->gitpython>=3.1.30->-r requirements.txt (line 5))\n",
      "  Downloading smmap-5.0.1-py3-none-any.whl.metadata (4.3 kB)\n",
      "Requirement already satisfied: zipp>=3.1.0 in /Users/rosaleen/Library/Python/3.9/lib/python/site-packages (from importlib-resources>=3.2.0->matplotlib>=3.3->-r requirements.txt (line 6)) (3.18.2)\n",
      "Requirement already satisfied: MarkupSafe>=2.0 in /Users/rosaleen/Library/Python/3.9/lib/python/site-packages (from jinja2->torch>=1.8.0->-r requirements.txt (line 15)) (2.1.5)\n",
      "Requirement already satisfied: mpmath>=0.19 in /Users/rosaleen/Library/Python/3.9/lib/python/site-packages (from sympy->torch>=1.8.0->-r requirements.txt (line 15)) (1.3.0)\n",
      "Downloading GitPython-3.1.43-py3-none-any.whl (207 kB)\n",
      "\u001b[2K   \u001b[90m━━━━━━━━━━━━━━━━━━━━━━━━━━━━━━━━━━━━━━━━\u001b[0m \u001b[32m207.3/207.3 kB\u001b[0m \u001b[31m1.5 MB/s\u001b[0m eta \u001b[36m0:00:00\u001b[0ma \u001b[36m0:00:01\u001b[0m\n",
      "\u001b[?25hUsing cached setuptools-69.5.1-py3-none-any.whl (894 kB)\n",
      "Using cached wheel-0.43.0-py3-none-any.whl (65 kB)\n",
      "Downloading gitdb-4.0.11-py3-none-any.whl (62 kB)\n",
      "\u001b[2K   \u001b[90m━━━━━━━━━━━━━━━━━━━━━━━━━━━━━━━━━━━━━━━━\u001b[0m \u001b[32m62.7/62.7 kB\u001b[0m \u001b[31m1.9 MB/s\u001b[0m eta \u001b[36m0:00:00\u001b[0m\n",
      "\u001b[?25hDownloading smmap-5.0.1-py3-none-any.whl (24 kB)\n",
      "Installing collected packages: wheel, smmap, setuptools, gitdb, gitpython\n",
      "Successfully installed gitdb-4.0.11 gitpython-3.1.43 setuptools-69.5.1 smmap-5.0.1 wheel-0.43.0\n"
     ]
    }
   ],
   "source": [
    "!git clone https://github.com/ultralytics/yolov5\n",
    "%cd yolov5\n",
    "!pip install -r requirements.txt"
   ]
  },
  {
   "cell_type": "code",
   "execution_count": 15,
   "metadata": {},
   "outputs": [],
   "source": [
    "import os\n",
    "os.environ['PYTORCH_CUDA_ALLOC_CONF'] = 'expandable_segments:True'"
   ]
  },
  {
   "cell_type": "code",
   "execution_count": 16,
   "metadata": {},
   "outputs": [
    {
     "name": "stdout",
     "output_type": "stream",
     "text": [
      "False\n"
     ]
    }
   ],
   "source": [
    "import torch\n",
    "print(torch.cuda.is_available())"
   ]
  }
 ],
 "metadata": {
  "kernelspec": {
   "display_name": "Python 3",
   "language": "python",
   "name": "python3"
  },
  "language_info": {
   "codemirror_mode": {
    "name": "ipython",
    "version": 3
   },
   "file_extension": ".py",
   "mimetype": "text/x-python",
   "name": "python",
   "nbconvert_exporter": "python",
   "pygments_lexer": "ipython3",
   "version": "3.9.6"
  }
 },
 "nbformat": 4,
 "nbformat_minor": 2
}
